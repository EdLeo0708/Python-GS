{
 "cells": [
  {
   "cell_type": "code",
   "execution_count": 4,
   "metadata": {},
   "outputs": [],
   "source": [
    "import tkinter as tk\n",
    "from tkinter import messagebox\n",
    "import webbrowser\n",
    "\n",
    "def obter_numeros_do_usuario():\n",
    "    \"Uma lista de números do usuário.\"\n",
    "    try:\n",
    "        numeros = entrada_numeros.get()\n",
    "        numeros = [float(numero) for numero in numeros.split()]\n",
    "        return numeros\n",
    "    except ValueError:\n",
    "        messagebox.showerror(\"Erro\", \"Certifique-se de inserir apenas números.\")\n",
    "        return []\n",
    "\n",
    "def calcular_media():\n",
    "    \"Verificação de Código do Produto.\"\n",
    "    numeros_usuario = obter_numeros_do_usuario()\n",
    "    media_resultado = sum(numeros_usuario) / len(numeros_usuario) if numeros_usuario else 0\n",
    "    resultado_label.config(text=f\"O N°:{media_resultado:.2f} do produto foi aceito\")\n",
    "\n",
    "def abrir_gmail():\n",
    "    webbrowser.open(\"https://mail.google.com\")\n",
    "\n",
    "# Criar a janela principal\n",
    "janela = tk.Tk()\n",
    "janela.title(\"Inserir Código\")\n",
    "\n",
    "# Criar widgets\n",
    "tk.Label(janela, text=\"Insira uma lista de números separados por espaços:\").pack(pady=10)\n",
    "entrada_numeros = tk.Entry(janela, width=50)\n",
    "entrada_numeros.pack(pady=10)\n",
    "\n",
    "calcular_botao = tk.Button(janela, text=\"Inserir Código\", command=calcular_media)\n",
    "calcular_botao.pack(pady=10)\n",
    "\n",
    "resultado_label = tk.Label(janela, text=\"\")\n",
    "resultado_label.pack(pady=10)\n",
    "\n",
    "abrir_gmail_botao = tk.Button(janela, text=\"Abrir Gmail\", command=abrir_gmail)\n",
    "abrir_gmail_botao.pack(pady=10)\n",
    "\n",
    "# Iniciar o loop principal\n",
    "janela.mainloop()\n"
   ]
  }
 ],
 "metadata": {
  "kernelspec": {
   "display_name": "Python 3",
   "language": "python",
   "name": "python3"
  },
  "language_info": {
   "codemirror_mode": {
    "name": "ipython",
    "version": 3
   },
   "file_extension": ".py",
   "mimetype": "text/x-python",
   "name": "python",
   "nbconvert_exporter": "python",
   "pygments_lexer": "ipython3",
   "version": "3.11.6"
  }
 },
 "nbformat": 4,
 "nbformat_minor": 2
}
